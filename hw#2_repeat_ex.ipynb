{
 "cells": [
  {
   "cell_type": "code",
   "execution_count": 115,
   "id": "5d17669b",
   "metadata": {},
   "outputs": [],
   "source": [
    "## Задание на повторение материала"
   ]
  },
  {
   "cell_type": "code",
   "execution_count": 116,
   "id": "e98a3c09",
   "metadata": {},
   "outputs": [],
   "source": [
    "## 1"
   ]
  },
  {
   "cell_type": "code",
   "execution_count": 117,
   "id": "fd8312d1",
   "metadata": {},
   "outputs": [],
   "source": [
    "import numpy as np"
   ]
  },
  {
   "cell_type": "code",
   "execution_count": 118,
   "id": "7a2a4f83",
   "metadata": {},
   "outputs": [],
   "source": [
    "a = np.array([i for i in range(12,24)])"
   ]
  },
  {
   "cell_type": "code",
   "execution_count": 119,
   "id": "3b45556c",
   "metadata": {},
   "outputs": [
    {
     "data": {
      "text/plain": [
       "array([12, 13, 14, 15, 16, 17, 18, 19, 20, 21, 22, 23])"
      ]
     },
     "execution_count": 119,
     "metadata": {},
     "output_type": "execute_result"
    }
   ],
   "source": [
    "a"
   ]
  },
  {
   "cell_type": "code",
   "execution_count": 120,
   "id": "5ccf7659",
   "metadata": {},
   "outputs": [],
   "source": [
    "## 2"
   ]
  },
  {
   "cell_type": "code",
   "execution_count": 121,
   "id": "edbe173b",
   "metadata": {},
   "outputs": [],
   "source": [
    "b11 = np.reshape(a, (2, 6))"
   ]
  },
  {
   "cell_type": "code",
   "execution_count": 122,
   "id": "0aa3485a",
   "metadata": {},
   "outputs": [
    {
     "data": {
      "text/plain": [
       "array([[12, 13, 14, 15, 16, 17],\n",
       "       [18, 19, 20, 21, 22, 23]])"
      ]
     },
     "execution_count": 122,
     "metadata": {},
     "output_type": "execute_result"
    }
   ],
   "source": [
    "b11"
   ]
  },
  {
   "cell_type": "code",
   "execution_count": 123,
   "id": "f1ac57f5",
   "metadata": {},
   "outputs": [],
   "source": [
    "b12 = np.reshape(a, (6, 2))"
   ]
  },
  {
   "cell_type": "code",
   "execution_count": 124,
   "id": "9b502c6b",
   "metadata": {},
   "outputs": [
    {
     "data": {
      "text/plain": [
       "array([[12, 13],\n",
       "       [14, 15],\n",
       "       [16, 17],\n",
       "       [18, 19],\n",
       "       [20, 21],\n",
       "       [22, 23]])"
      ]
     },
     "execution_count": 124,
     "metadata": {},
     "output_type": "execute_result"
    }
   ],
   "source": [
    "b12"
   ]
  },
  {
   "cell_type": "code",
   "execution_count": 125,
   "id": "9e7c8a40",
   "metadata": {},
   "outputs": [],
   "source": [
    "b13 = np.reshape(a[0:8], (2,4))"
   ]
  },
  {
   "cell_type": "code",
   "execution_count": 126,
   "id": "c41bf9ff",
   "metadata": {},
   "outputs": [
    {
     "data": {
      "text/plain": [
       "array([[12, 13, 14, 15],\n",
       "       [16, 17, 18, 19]])"
      ]
     },
     "execution_count": 126,
     "metadata": {},
     "output_type": "execute_result"
    }
   ],
   "source": [
    "b13"
   ]
  },
  {
   "cell_type": "code",
   "execution_count": 127,
   "id": "1c3de7d2",
   "metadata": {},
   "outputs": [],
   "source": [
    "b14 = np.reshape(a[0:8], (4,2))"
   ]
  },
  {
   "cell_type": "code",
   "execution_count": 128,
   "id": "09c7da85",
   "metadata": {},
   "outputs": [
    {
     "data": {
      "text/plain": [
       "array([[12, 13],\n",
       "       [14, 15],\n",
       "       [16, 17],\n",
       "       [18, 19]])"
      ]
     },
     "execution_count": 128,
     "metadata": {},
     "output_type": "execute_result"
    }
   ],
   "source": [
    "b14"
   ]
  },
  {
   "cell_type": "code",
   "execution_count": 129,
   "id": "173cc22c",
   "metadata": {},
   "outputs": [],
   "source": [
    "b15 = np.reshape(a[0:6], (3,2))"
   ]
  },
  {
   "cell_type": "code",
   "execution_count": 130,
   "id": "4209efce",
   "metadata": {},
   "outputs": [
    {
     "data": {
      "text/plain": [
       "array([[12, 13],\n",
       "       [14, 15],\n",
       "       [16, 17]])"
      ]
     },
     "execution_count": 130,
     "metadata": {},
     "output_type": "execute_result"
    }
   ],
   "source": [
    "b15"
   ]
  },
  {
   "cell_type": "code",
   "execution_count": 131,
   "id": "562d051e",
   "metadata": {},
   "outputs": [],
   "source": [
    "## 3"
   ]
  },
  {
   "cell_type": "code",
   "execution_count": 132,
   "id": "6c99bf20",
   "metadata": {},
   "outputs": [],
   "source": [
    "b21 = np.reshape(a[0:4], (2,-1))"
   ]
  },
  {
   "cell_type": "code",
   "execution_count": 133,
   "id": "63125214",
   "metadata": {},
   "outputs": [
    {
     "data": {
      "text/plain": [
       "array([[12, 13],\n",
       "       [14, 15]])"
      ]
     },
     "execution_count": 133,
     "metadata": {},
     "output_type": "execute_result"
    }
   ],
   "source": [
    "b21"
   ]
  },
  {
   "cell_type": "code",
   "execution_count": 134,
   "id": "6971f9d2",
   "metadata": {},
   "outputs": [],
   "source": [
    "b22 = np.reshape(a[0:4], (-1,2))"
   ]
  },
  {
   "cell_type": "code",
   "execution_count": 135,
   "id": "9874205e",
   "metadata": {},
   "outputs": [
    {
     "data": {
      "text/plain": [
       "array([[12, 13],\n",
       "       [14, 15]])"
      ]
     },
     "execution_count": 135,
     "metadata": {},
     "output_type": "execute_result"
    }
   ],
   "source": [
    "b22"
   ]
  },
  {
   "cell_type": "code",
   "execution_count": 136,
   "id": "504381f2",
   "metadata": {},
   "outputs": [],
   "source": [
    "b23 = np.reshape(a[0:6], (2,-1))"
   ]
  },
  {
   "cell_type": "code",
   "execution_count": 137,
   "id": "6c7e6545",
   "metadata": {},
   "outputs": [
    {
     "data": {
      "text/plain": [
       "array([[12, 13, 14],\n",
       "       [15, 16, 17]])"
      ]
     },
     "execution_count": 137,
     "metadata": {},
     "output_type": "execute_result"
    }
   ],
   "source": [
    "b23"
   ]
  },
  {
   "cell_type": "code",
   "execution_count": 138,
   "id": "20423400",
   "metadata": {},
   "outputs": [],
   "source": [
    "b24 = np.reshape(a[0:6], (-1,2))"
   ]
  },
  {
   "cell_type": "code",
   "execution_count": 139,
   "id": "f668bdd0",
   "metadata": {},
   "outputs": [
    {
     "data": {
      "text/plain": [
       "array([[12, 13],\n",
       "       [14, 15],\n",
       "       [16, 17]])"
      ]
     },
     "execution_count": 139,
     "metadata": {},
     "output_type": "execute_result"
    }
   ],
   "source": [
    "b24"
   ]
  },
  {
   "cell_type": "code",
   "execution_count": 140,
   "id": "d6376d2a",
   "metadata": {},
   "outputs": [],
   "source": [
    "b25 = np.reshape(a[0:8], (2,-1))"
   ]
  },
  {
   "cell_type": "code",
   "execution_count": 141,
   "id": "9ea682e7",
   "metadata": {},
   "outputs": [
    {
     "data": {
      "text/plain": [
       "array([[12, 13, 14, 15],\n",
       "       [16, 17, 18, 19]])"
      ]
     },
     "execution_count": 141,
     "metadata": {},
     "output_type": "execute_result"
    }
   ],
   "source": [
    "b25"
   ]
  },
  {
   "cell_type": "code",
   "execution_count": 142,
   "id": "8fe215cb",
   "metadata": {},
   "outputs": [],
   "source": [
    "## 4"
   ]
  },
  {
   "cell_type": "code",
   "execution_count": 143,
   "id": "7f2c261c",
   "metadata": {},
   "outputs": [],
   "source": [
    "## да, массив, состоящий из одного столбца и 12 строк является одномерным."
   ]
  },
  {
   "cell_type": "code",
   "execution_count": 144,
   "id": "942edb41",
   "metadata": {},
   "outputs": [],
   "source": [
    "## 5"
   ]
  },
  {
   "cell_type": "code",
   "execution_count": 145,
   "id": "2d9323b9",
   "metadata": {},
   "outputs": [],
   "source": [
    "new_a = np.random.randn(3,4)"
   ]
  },
  {
   "cell_type": "code",
   "execution_count": 146,
   "id": "fe69ebd1",
   "metadata": {},
   "outputs": [
    {
     "data": {
      "text/plain": [
       "array([[ 0.49671415, -0.1382643 ,  0.64768854,  1.52302986],\n",
       "       [-0.23415337, -0.23413696,  1.57921282,  0.76743473],\n",
       "       [-0.46947439,  0.54256004, -0.46341769, -0.46572975]])"
      ]
     },
     "execution_count": 146,
     "metadata": {},
     "output_type": "execute_result"
    }
   ],
   "source": [
    "new_a"
   ]
  },
  {
   "cell_type": "code",
   "execution_count": 147,
   "id": "b054cf97",
   "metadata": {},
   "outputs": [
    {
     "data": {
      "text/plain": [
       "12"
      ]
     },
     "execution_count": 147,
     "metadata": {},
     "output_type": "execute_result"
    }
   ],
   "source": [
    "np.size(new_a)"
   ]
  },
  {
   "cell_type": "code",
   "execution_count": 148,
   "id": "126d270c",
   "metadata": {},
   "outputs": [],
   "source": [
    "upd_a = new_a.reshape(1,np.size(new_a))"
   ]
  },
  {
   "cell_type": "code",
   "execution_count": 149,
   "id": "6ea75275",
   "metadata": {},
   "outputs": [
    {
     "data": {
      "text/plain": [
       "array([[ 0.49671415, -0.1382643 ,  0.64768854,  1.52302986, -0.23415337,\n",
       "        -0.23413696,  1.57921282,  0.76743473, -0.46947439,  0.54256004,\n",
       "        -0.46341769, -0.46572975]])"
      ]
     },
     "execution_count": 149,
     "metadata": {},
     "output_type": "execute_result"
    }
   ],
   "source": [
    "upd_a"
   ]
  },
  {
   "cell_type": "code",
   "execution_count": 150,
   "id": "bf32a846",
   "metadata": {},
   "outputs": [],
   "source": [
    "## 6"
   ]
  },
  {
   "cell_type": "code",
   "execution_count": 151,
   "id": "f97ceb5f",
   "metadata": {},
   "outputs": [],
   "source": [
    "a_6 = np.arange(20, 0, -2)"
   ]
  },
  {
   "cell_type": "code",
   "execution_count": 152,
   "id": "0878197d",
   "metadata": {},
   "outputs": [
    {
     "data": {
      "text/plain": [
       "array([20, 18, 16, 14, 12, 10,  8,  6,  4,  2])"
      ]
     },
     "execution_count": 152,
     "metadata": {},
     "output_type": "execute_result"
    }
   ],
   "source": [
    "a_6"
   ]
  },
  {
   "cell_type": "code",
   "execution_count": 153,
   "id": "f900de07",
   "metadata": {},
   "outputs": [
    {
     "data": {
      "text/plain": [
       "(10,)"
      ]
     },
     "execution_count": 153,
     "metadata": {},
     "output_type": "execute_result"
    }
   ],
   "source": [
    "a_6.shape"
   ]
  },
  {
   "cell_type": "code",
   "execution_count": 154,
   "id": "fdebd336",
   "metadata": {},
   "outputs": [],
   "source": [
    "## 7"
   ]
  },
  {
   "cell_type": "code",
   "execution_count": 155,
   "id": "f5b40d47",
   "metadata": {},
   "outputs": [],
   "source": [
    "b_7 = np.reshape(np.arange(20, 1, -2), (1, 10))"
   ]
  },
  {
   "cell_type": "code",
   "execution_count": 156,
   "id": "ca48de6b",
   "metadata": {},
   "outputs": [
    {
     "data": {
      "text/plain": [
       "array([[20, 18, 16, 14, 12, 10,  8,  6,  4,  2]])"
      ]
     },
     "execution_count": 156,
     "metadata": {},
     "output_type": "execute_result"
    }
   ],
   "source": [
    "b_7"
   ]
  },
  {
   "cell_type": "code",
   "execution_count": 157,
   "id": "5fbae183",
   "metadata": {},
   "outputs": [
    {
     "data": {
      "text/plain": [
       "(1, 10)"
      ]
     },
     "execution_count": 157,
     "metadata": {},
     "output_type": "execute_result"
    }
   ],
   "source": [
    "b_7.shape"
   ]
  },
  {
   "cell_type": "code",
   "execution_count": 158,
   "id": "c6ee565e",
   "metadata": {},
   "outputs": [],
   "source": [
    "## разница в массиве из 6го и 7го номера в их формах, чтобы создать 1 на 10 массив нужно было дополнительно применить команду reshape"
   ]
  },
  {
   "cell_type": "code",
   "execution_count": 159,
   "id": "123511ba",
   "metadata": {},
   "outputs": [],
   "source": [
    "## 8"
   ]
  },
  {
   "cell_type": "code",
   "execution_count": 160,
   "id": "7e13db1f",
   "metadata": {},
   "outputs": [],
   "source": [
    "a_8 = np.zeros((2,2))"
   ]
  },
  {
   "cell_type": "code",
   "execution_count": 161,
   "id": "af6c7ffc",
   "metadata": {},
   "outputs": [],
   "source": [
    "b_8 = np.ones((3,2))"
   ]
  },
  {
   "cell_type": "code",
   "execution_count": 162,
   "id": "3b8b8a0e",
   "metadata": {},
   "outputs": [],
   "source": [
    "v = np.vstack((a_8,b_8))"
   ]
  },
  {
   "cell_type": "code",
   "execution_count": 163,
   "id": "11db8389",
   "metadata": {},
   "outputs": [
    {
     "data": {
      "text/plain": [
       "10"
      ]
     },
     "execution_count": 163,
     "metadata": {},
     "output_type": "execute_result"
    }
   ],
   "source": [
    "np.size(v)"
   ]
  },
  {
   "cell_type": "code",
   "execution_count": 164,
   "id": "110b8b5e",
   "metadata": {},
   "outputs": [],
   "source": [
    "## 9"
   ]
  },
  {
   "cell_type": "code",
   "execution_count": 165,
   "id": "7768d38d",
   "metadata": {},
   "outputs": [],
   "source": [
    "a_9 = np.arange(0,12,1)"
   ]
  },
  {
   "cell_type": "code",
   "execution_count": 166,
   "id": "132de9b1",
   "metadata": {},
   "outputs": [],
   "source": [
    "A = np.reshape(a_9, (4,3))"
   ]
  },
  {
   "cell_type": "code",
   "execution_count": 167,
   "id": "a9786cb0",
   "metadata": {},
   "outputs": [
    {
     "data": {
      "text/plain": [
       "array([[ 0,  1,  2],\n",
       "       [ 3,  4,  5],\n",
       "       [ 6,  7,  8],\n",
       "       [ 9, 10, 11]])"
      ]
     },
     "execution_count": 167,
     "metadata": {},
     "output_type": "execute_result"
    }
   ],
   "source": [
    "A"
   ]
  },
  {
   "cell_type": "code",
   "execution_count": 168,
   "id": "67d03802",
   "metadata": {},
   "outputs": [],
   "source": [
    "At = A.transpose()"
   ]
  },
  {
   "cell_type": "code",
   "execution_count": 169,
   "id": "00a558bc",
   "metadata": {},
   "outputs": [],
   "source": [
    "B = np.dot(A, At)"
   ]
  },
  {
   "cell_type": "code",
   "execution_count": 170,
   "id": "3141f57e",
   "metadata": {},
   "outputs": [
    {
     "data": {
      "text/plain": [
       "array([[  5,  14,  23,  32],\n",
       "       [ 14,  50,  86, 122],\n",
       "       [ 23,  86, 149, 212],\n",
       "       [ 32, 122, 212, 302]])"
      ]
     },
     "execution_count": 170,
     "metadata": {},
     "output_type": "execute_result"
    }
   ],
   "source": [
    "B"
   ]
  },
  {
   "cell_type": "code",
   "execution_count": 171,
   "id": "87aa5b10",
   "metadata": {},
   "outputs": [
    {
     "data": {
      "text/plain": [
       "(4, 4)"
      ]
     },
     "execution_count": 171,
     "metadata": {},
     "output_type": "execute_result"
    }
   ],
   "source": [
    "B.shape"
   ]
  },
  {
   "cell_type": "code",
   "execution_count": 172,
   "id": "4db4ec1b",
   "metadata": {},
   "outputs": [
    {
     "data": {
      "text/plain": [
       "2"
      ]
     },
     "execution_count": 172,
     "metadata": {},
     "output_type": "execute_result"
    }
   ],
   "source": [
    "np.linalg.matrix_rank(B)"
   ]
  },
  {
   "cell_type": "code",
   "execution_count": 178,
   "id": "049026b2",
   "metadata": {},
   "outputs": [
    {
     "data": {
      "text/plain": [
       "0.0"
      ]
     },
     "execution_count": 178,
     "metadata": {},
     "output_type": "execute_result"
    }
   ],
   "source": [
    "np.linalg.det(B)"
   ]
  },
  {
   "cell_type": "code",
   "execution_count": 179,
   "id": "8b55f461",
   "metadata": {},
   "outputs": [],
   "source": [
    "## поскольку детерминант матрицы В равен нулю-перед нами сингулярная матрица, обратить которую невозможно (можно попробовать это сделать и получим от питона ошибку)"
   ]
  },
  {
   "cell_type": "code",
   "execution_count": 180,
   "id": "ba2b1869",
   "metadata": {},
   "outputs": [],
   "source": [
    "## 10"
   ]
  },
  {
   "cell_type": "code",
   "execution_count": 183,
   "id": "320f623f",
   "metadata": {},
   "outputs": [],
   "source": [
    "np.random.seed(42)"
   ]
  },
  {
   "cell_type": "code",
   "execution_count": 184,
   "id": "c7edd79a",
   "metadata": {},
   "outputs": [],
   "source": [
    "a_10 = np.random.randint(0,10,3)"
   ]
  },
  {
   "cell_type": "code",
   "execution_count": 185,
   "id": "dd400233",
   "metadata": {},
   "outputs": [
    {
     "data": {
      "text/plain": [
       "array([6, 3, 7])"
      ]
     },
     "execution_count": 185,
     "metadata": {},
     "output_type": "execute_result"
    }
   ],
   "source": [
    "a_10"
   ]
  },
  {
   "cell_type": "code",
   "execution_count": 210,
   "id": "dccb0c5e",
   "metadata": {},
   "outputs": [],
   "source": [
    "## 11"
   ]
  },
  {
   "cell_type": "code",
   "execution_count": 216,
   "id": "3e713fbb",
   "metadata": {},
   "outputs": [],
   "source": [
    "c = np.random.uniform(low=0, high=16, size=(16,)).astype(int)"
   ]
  },
  {
   "cell_type": "code",
   "execution_count": 217,
   "id": "044e2ec3",
   "metadata": {},
   "outputs": [
    {
     "data": {
      "text/plain": [
       "array([ 0, 13, 11, 11, 12,  1,  5,  1, 13,  9,  5,  1,  4,  5, 11, 10])"
      ]
     },
     "execution_count": 217,
     "metadata": {},
     "output_type": "execute_result"
    }
   ],
   "source": [
    "c"
   ]
  },
  {
   "cell_type": "code",
   "execution_count": 231,
   "id": "8bef0e9d",
   "metadata": {},
   "outputs": [],
   "source": [
    "## 12"
   ]
  },
  {
   "cell_type": "code",
   "execution_count": 232,
   "id": "e81200de",
   "metadata": {},
   "outputs": [],
   "source": [
    "C = np.reshape(c, (4,4))"
   ]
  },
  {
   "cell_type": "code",
   "execution_count": 233,
   "id": "809158f4",
   "metadata": {},
   "outputs": [
    {
     "data": {
      "text/plain": [
       "array([[ 0, 13, 11, 11],\n",
       "       [12,  1,  5,  1],\n",
       "       [13,  9,  5,  1],\n",
       "       [ 4,  5, 11, 10]])"
      ]
     },
     "execution_count": 233,
     "metadata": {},
     "output_type": "execute_result"
    }
   ],
   "source": [
    "C"
   ]
  },
  {
   "cell_type": "code",
   "execution_count": 234,
   "id": "aa8de693",
   "metadata": {},
   "outputs": [],
   "source": [
    "D = np.add(B, np.dot(C,10))"
   ]
  },
  {
   "cell_type": "code",
   "execution_count": 235,
   "id": "ba7bd4ae",
   "metadata": {},
   "outputs": [
    {
     "data": {
      "text/plain": [
       "array([[  5, 144, 133, 142],\n",
       "       [134,  60, 136, 132],\n",
       "       [153, 176, 199, 222],\n",
       "       [ 72, 172, 322, 402]])"
      ]
     },
     "execution_count": 235,
     "metadata": {},
     "output_type": "execute_result"
    }
   ],
   "source": [
    "D"
   ]
  },
  {
   "cell_type": "code",
   "execution_count": 236,
   "id": "55cd0a44",
   "metadata": {},
   "outputs": [
    {
     "data": {
      "text/plain": [
       "122146000.0"
      ]
     },
     "execution_count": 236,
     "metadata": {},
     "output_type": "execute_result"
    }
   ],
   "source": [
    "np.linalg.det(D)"
   ]
  },
  {
   "cell_type": "code",
   "execution_count": 237,
   "id": "7c877b47",
   "metadata": {},
   "outputs": [
    {
     "data": {
      "text/plain": [
       "4"
      ]
     },
     "execution_count": 237,
     "metadata": {},
     "output_type": "execute_result"
    }
   ],
   "source": [
    "np.linalg.matrix_rank(D)"
   ]
  },
  {
   "cell_type": "code",
   "execution_count": 251,
   "id": "ed3012db",
   "metadata": {},
   "outputs": [],
   "source": [
    "D_inv = np.linalg.inv(D)"
   ]
  },
  {
   "cell_type": "code",
   "execution_count": 252,
   "id": "82942acf",
   "metadata": {},
   "outputs": [],
   "source": [
    "## 13"
   ]
  },
  {
   "cell_type": "code",
   "execution_count": 253,
   "id": "28e9d52b",
   "metadata": {},
   "outputs": [
    {
     "data": {
      "text/plain": [
       "array([[-0.00782506, -0.0006674 ,  0.00806936, -0.00147299],\n",
       "       [ 0.00358833, -0.00860167,  0.00903034, -0.00342999],\n",
       "       [ 0.02811226,  0.03647176, -0.0304714 , -0.00507851],\n",
       "       [-0.02265158, -0.02541385,  0.01909846,  0.0082868 ]])"
      ]
     },
     "execution_count": 253,
     "metadata": {},
     "output_type": "execute_result"
    }
   ],
   "source": [
    "D_inv"
   ]
  },
  {
   "cell_type": "code",
   "execution_count": 254,
   "id": "f8a5b9ae",
   "metadata": {},
   "outputs": [],
   "source": [
    "## 14"
   ]
  },
  {
   "cell_type": "code",
   "execution_count": 255,
   "id": "fa1c1737",
   "metadata": {},
   "outputs": [],
   "source": [
    "D_inv[np.where(D_inv<0)]=0"
   ]
  },
  {
   "cell_type": "code",
   "execution_count": 256,
   "id": "255d71b8",
   "metadata": {},
   "outputs": [
    {
     "data": {
      "text/plain": [
       "array([[0.        , 0.        , 0.00806936, 0.        ],\n",
       "       [0.00358833, 0.        , 0.00903034, 0.        ],\n",
       "       [0.02811226, 0.03647176, 0.        , 0.        ],\n",
       "       [0.        , 0.        , 0.01909846, 0.0082868 ]])"
      ]
     },
     "execution_count": 256,
     "metadata": {},
     "output_type": "execute_result"
    }
   ],
   "source": [
    "D_inv"
   ]
  },
  {
   "cell_type": "code",
   "execution_count": 257,
   "id": "2580a2fd",
   "metadata": {},
   "outputs": [],
   "source": [
    "D_inv[np.where(D_inv>0)]=1"
   ]
  },
  {
   "cell_type": "code",
   "execution_count": 258,
   "id": "6b2ef6c0",
   "metadata": {},
   "outputs": [
    {
     "data": {
      "text/plain": [
       "array([[0., 0., 1., 0.],\n",
       "       [1., 0., 1., 0.],\n",
       "       [1., 1., 0., 0.],\n",
       "       [0., 0., 1., 1.]])"
      ]
     },
     "execution_count": 258,
     "metadata": {},
     "output_type": "execute_result"
    }
   ],
   "source": [
    "D_inv"
   ]
  },
  {
   "cell_type": "code",
   "execution_count": 259,
   "id": "f09a5527",
   "metadata": {},
   "outputs": [],
   "source": [
    "E = np.where([[False,False,True,False],[True,False,True,False],[True,True,False,False],[False,False,True,True]],B,C)"
   ]
  },
  {
   "cell_type": "code",
   "execution_count": 260,
   "id": "dd5df8a9",
   "metadata": {},
   "outputs": [
    {
     "data": {
      "text/plain": [
       "array([[  0,  13,  23,  11],\n",
       "       [ 14,   1,  86,   1],\n",
       "       [ 23,  86,   5,   1],\n",
       "       [  4,   5, 212, 302]])"
      ]
     },
     "execution_count": 260,
     "metadata": {},
     "output_type": "execute_result"
    }
   ],
   "source": [
    "E"
   ]
  },
  {
   "cell_type": "code",
   "execution_count": null,
   "id": "d1f4f00c",
   "metadata": {},
   "outputs": [],
   "source": []
  }
 ],
 "metadata": {
  "kernelspec": {
   "display_name": "Python 3 (ipykernel)",
   "language": "python",
   "name": "python3"
  },
  "language_info": {
   "codemirror_mode": {
    "name": "ipython",
    "version": 3
   },
   "file_extension": ".py",
   "mimetype": "text/x-python",
   "name": "python",
   "nbconvert_exporter": "python",
   "pygments_lexer": "ipython3",
   "version": "3.9.7"
  }
 },
 "nbformat": 4,
 "nbformat_minor": 5
}
